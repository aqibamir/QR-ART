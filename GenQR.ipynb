{
  "nbformat": 4,
  "nbformat_minor": 0,
  "metadata": {
    "colab": {
      "provenance": [],
      "gpuType": "T4"
    },
    "kernelspec": {
      "name": "python3",
      "display_name": "Python 3"
    },
    "language_info": {
      "name": "python"
    },
    "accelerator": "GPU",
    "widgets": {
      "application/vnd.jupyter.widget-state+json": {
        "1b7f08e21ba640188de8d46700e611ec": {
          "model_module": "@jupyter-widgets/controls",
          "model_name": "HBoxModel",
          "model_module_version": "1.5.0",
          "state": {
            "_dom_classes": [],
            "_model_module": "@jupyter-widgets/controls",
            "_model_module_version": "1.5.0",
            "_model_name": "HBoxModel",
            "_view_count": null,
            "_view_module": "@jupyter-widgets/controls",
            "_view_module_version": "1.5.0",
            "_view_name": "HBoxView",
            "box_style": "",
            "children": [
              "IPY_MODEL_c7ac2174b27341b3a1aaa76a81dd6c69",
              "IPY_MODEL_cea4fb0767f444439d73353eb6ff68ea",
              "IPY_MODEL_329d2e7704f04270a5d8ecb38e90ec3b"
            ],
            "layout": "IPY_MODEL_abef4998f0d44382ab317e52ee422fa0"
          }
        },
        "c7ac2174b27341b3a1aaa76a81dd6c69": {
          "model_module": "@jupyter-widgets/controls",
          "model_name": "HTMLModel",
          "model_module_version": "1.5.0",
          "state": {
            "_dom_classes": [],
            "_model_module": "@jupyter-widgets/controls",
            "_model_module_version": "1.5.0",
            "_model_name": "HTMLModel",
            "_view_count": null,
            "_view_module": "@jupyter-widgets/controls",
            "_view_module_version": "1.5.0",
            "_view_name": "HTMLView",
            "description": "",
            "description_tooltip": null,
            "layout": "IPY_MODEL_65ad0bedb8c642e48fc8c9ef11ae5396",
            "placeholder": "​",
            "style": "IPY_MODEL_0768da253a8a43bb93e942d93a4a65a6",
            "value": " 72%"
          }
        },
        "cea4fb0767f444439d73353eb6ff68ea": {
          "model_module": "@jupyter-widgets/controls",
          "model_name": "FloatProgressModel",
          "model_module_version": "1.5.0",
          "state": {
            "_dom_classes": [],
            "_model_module": "@jupyter-widgets/controls",
            "_model_module_version": "1.5.0",
            "_model_name": "FloatProgressModel",
            "_view_count": null,
            "_view_module": "@jupyter-widgets/controls",
            "_view_module_version": "1.5.0",
            "_view_name": "ProgressView",
            "bar_style": "",
            "description": "",
            "description_tooltip": null,
            "layout": "IPY_MODEL_8d082291f6eb4673b58fa4e70cb2ffee",
            "max": 135,
            "min": 0,
            "orientation": "horizontal",
            "style": "IPY_MODEL_45d7b0f84049447d8e9c3029ef8ee1f6",
            "value": 97
          }
        },
        "329d2e7704f04270a5d8ecb38e90ec3b": {
          "model_module": "@jupyter-widgets/controls",
          "model_name": "HTMLModel",
          "model_module_version": "1.5.0",
          "state": {
            "_dom_classes": [],
            "_model_module": "@jupyter-widgets/controls",
            "_model_module_version": "1.5.0",
            "_model_name": "HTMLModel",
            "_view_count": null,
            "_view_module": "@jupyter-widgets/controls",
            "_view_module_version": "1.5.0",
            "_view_name": "HTMLView",
            "description": "",
            "description_tooltip": null,
            "layout": "IPY_MODEL_33ff876ef87747e79e394689f86f4592",
            "placeholder": "​",
            "style": "IPY_MODEL_3c8324257526402f879a01a87bb58592",
            "value": " 97/135 [00:44&lt;00:17,  2.14it/s]"
          }
        },
        "abef4998f0d44382ab317e52ee422fa0": {
          "model_module": "@jupyter-widgets/base",
          "model_name": "LayoutModel",
          "model_module_version": "1.2.0",
          "state": {
            "_model_module": "@jupyter-widgets/base",
            "_model_module_version": "1.2.0",
            "_model_name": "LayoutModel",
            "_view_count": null,
            "_view_module": "@jupyter-widgets/base",
            "_view_module_version": "1.2.0",
            "_view_name": "LayoutView",
            "align_content": null,
            "align_items": null,
            "align_self": null,
            "border": null,
            "bottom": null,
            "display": null,
            "flex": null,
            "flex_flow": null,
            "grid_area": null,
            "grid_auto_columns": null,
            "grid_auto_flow": null,
            "grid_auto_rows": null,
            "grid_column": null,
            "grid_gap": null,
            "grid_row": null,
            "grid_template_areas": null,
            "grid_template_columns": null,
            "grid_template_rows": null,
            "height": null,
            "justify_content": null,
            "justify_items": null,
            "left": null,
            "margin": null,
            "max_height": null,
            "max_width": null,
            "min_height": null,
            "min_width": null,
            "object_fit": null,
            "object_position": null,
            "order": null,
            "overflow": null,
            "overflow_x": null,
            "overflow_y": null,
            "padding": null,
            "right": null,
            "top": null,
            "visibility": null,
            "width": null
          }
        },
        "65ad0bedb8c642e48fc8c9ef11ae5396": {
          "model_module": "@jupyter-widgets/base",
          "model_name": "LayoutModel",
          "model_module_version": "1.2.0",
          "state": {
            "_model_module": "@jupyter-widgets/base",
            "_model_module_version": "1.2.0",
            "_model_name": "LayoutModel",
            "_view_count": null,
            "_view_module": "@jupyter-widgets/base",
            "_view_module_version": "1.2.0",
            "_view_name": "LayoutView",
            "align_content": null,
            "align_items": null,
            "align_self": null,
            "border": null,
            "bottom": null,
            "display": null,
            "flex": null,
            "flex_flow": null,
            "grid_area": null,
            "grid_auto_columns": null,
            "grid_auto_flow": null,
            "grid_auto_rows": null,
            "grid_column": null,
            "grid_gap": null,
            "grid_row": null,
            "grid_template_areas": null,
            "grid_template_columns": null,
            "grid_template_rows": null,
            "height": null,
            "justify_content": null,
            "justify_items": null,
            "left": null,
            "margin": null,
            "max_height": null,
            "max_width": null,
            "min_height": null,
            "min_width": null,
            "object_fit": null,
            "object_position": null,
            "order": null,
            "overflow": null,
            "overflow_x": null,
            "overflow_y": null,
            "padding": null,
            "right": null,
            "top": null,
            "visibility": null,
            "width": null
          }
        },
        "0768da253a8a43bb93e942d93a4a65a6": {
          "model_module": "@jupyter-widgets/controls",
          "model_name": "DescriptionStyleModel",
          "model_module_version": "1.5.0",
          "state": {
            "_model_module": "@jupyter-widgets/controls",
            "_model_module_version": "1.5.0",
            "_model_name": "DescriptionStyleModel",
            "_view_count": null,
            "_view_module": "@jupyter-widgets/base",
            "_view_module_version": "1.2.0",
            "_view_name": "StyleView",
            "description_width": ""
          }
        },
        "8d082291f6eb4673b58fa4e70cb2ffee": {
          "model_module": "@jupyter-widgets/base",
          "model_name": "LayoutModel",
          "model_module_version": "1.2.0",
          "state": {
            "_model_module": "@jupyter-widgets/base",
            "_model_module_version": "1.2.0",
            "_model_name": "LayoutModel",
            "_view_count": null,
            "_view_module": "@jupyter-widgets/base",
            "_view_module_version": "1.2.0",
            "_view_name": "LayoutView",
            "align_content": null,
            "align_items": null,
            "align_self": null,
            "border": null,
            "bottom": null,
            "display": null,
            "flex": null,
            "flex_flow": null,
            "grid_area": null,
            "grid_auto_columns": null,
            "grid_auto_flow": null,
            "grid_auto_rows": null,
            "grid_column": null,
            "grid_gap": null,
            "grid_row": null,
            "grid_template_areas": null,
            "grid_template_columns": null,
            "grid_template_rows": null,
            "height": null,
            "justify_content": null,
            "justify_items": null,
            "left": null,
            "margin": null,
            "max_height": null,
            "max_width": null,
            "min_height": null,
            "min_width": null,
            "object_fit": null,
            "object_position": null,
            "order": null,
            "overflow": null,
            "overflow_x": null,
            "overflow_y": null,
            "padding": null,
            "right": null,
            "top": null,
            "visibility": null,
            "width": null
          }
        },
        "45d7b0f84049447d8e9c3029ef8ee1f6": {
          "model_module": "@jupyter-widgets/controls",
          "model_name": "ProgressStyleModel",
          "model_module_version": "1.5.0",
          "state": {
            "_model_module": "@jupyter-widgets/controls",
            "_model_module_version": "1.5.0",
            "_model_name": "ProgressStyleModel",
            "_view_count": null,
            "_view_module": "@jupyter-widgets/base",
            "_view_module_version": "1.2.0",
            "_view_name": "StyleView",
            "bar_color": null,
            "description_width": ""
          }
        },
        "33ff876ef87747e79e394689f86f4592": {
          "model_module": "@jupyter-widgets/base",
          "model_name": "LayoutModel",
          "model_module_version": "1.2.0",
          "state": {
            "_model_module": "@jupyter-widgets/base",
            "_model_module_version": "1.2.0",
            "_model_name": "LayoutModel",
            "_view_count": null,
            "_view_module": "@jupyter-widgets/base",
            "_view_module_version": "1.2.0",
            "_view_name": "LayoutView",
            "align_content": null,
            "align_items": null,
            "align_self": null,
            "border": null,
            "bottom": null,
            "display": null,
            "flex": null,
            "flex_flow": null,
            "grid_area": null,
            "grid_auto_columns": null,
            "grid_auto_flow": null,
            "grid_auto_rows": null,
            "grid_column": null,
            "grid_gap": null,
            "grid_row": null,
            "grid_template_areas": null,
            "grid_template_columns": null,
            "grid_template_rows": null,
            "height": null,
            "justify_content": null,
            "justify_items": null,
            "left": null,
            "margin": null,
            "max_height": null,
            "max_width": null,
            "min_height": null,
            "min_width": null,
            "object_fit": null,
            "object_position": null,
            "order": null,
            "overflow": null,
            "overflow_x": null,
            "overflow_y": null,
            "padding": null,
            "right": null,
            "top": null,
            "visibility": null,
            "width": null
          }
        },
        "3c8324257526402f879a01a87bb58592": {
          "model_module": "@jupyter-widgets/controls",
          "model_name": "DescriptionStyleModel",
          "model_module_version": "1.5.0",
          "state": {
            "_model_module": "@jupyter-widgets/controls",
            "_model_module_version": "1.5.0",
            "_model_name": "DescriptionStyleModel",
            "_view_count": null,
            "_view_module": "@jupyter-widgets/base",
            "_view_module_version": "1.2.0",
            "_view_name": "StyleView",
            "description_width": ""
          }
        }
      }
    }
  },
  "cells": [
    {
      "cell_type": "code",
      "source": [
        "!pip install QRCode\n",
        "!pip -q install diffusers transformers accelerate torch xformers\n"
      ],
      "metadata": {
        "colab": {
          "base_uri": "https://localhost:8080/"
        },
        "id": "9EY_o0nRWTUS",
        "outputId": "22e66c78-a7f2-4eea-f404-866d0476b86b"
      },
      "execution_count": 2,
      "outputs": [
        {
          "output_type": "stream",
          "name": "stdout",
          "text": [
            "Looking in indexes: https://pypi.org/simple, https://us-python.pkg.dev/colab-wheels/public/simple/\n",
            "Collecting QRCode\n",
            "  Downloading qrcode-7.4.2-py3-none-any.whl (46 kB)\n",
            "\u001b[2K     \u001b[90m━━━━━━━━━━━━━━━━━━━━━━━━━━━━━━━━━━━━━━━━\u001b[0m \u001b[32m46.2/46.2 kB\u001b[0m \u001b[31m5.7 MB/s\u001b[0m eta \u001b[36m0:00:00\u001b[0m\n",
            "\u001b[?25hRequirement already satisfied: typing-extensions in /usr/local/lib/python3.10/dist-packages (from QRCode) (4.5.0)\n",
            "Collecting pypng (from QRCode)\n",
            "  Downloading pypng-0.20220715.0-py3-none-any.whl (58 kB)\n",
            "\u001b[2K     \u001b[90m━━━━━━━━━━━━━━━━━━━━━━━━━━━━━━━━━━━━━━━━\u001b[0m \u001b[32m58.1/58.1 kB\u001b[0m \u001b[31m9.2 MB/s\u001b[0m eta \u001b[36m0:00:00\u001b[0m\n",
            "\u001b[?25hInstalling collected packages: pypng, QRCode\n",
            "Successfully installed QRCode-7.4.2 pypng-0.20220715.0\n",
            "\u001b[2K     \u001b[90m━━━━━━━━━━━━━━━━━━━━━━━━━━━━━━━━━━━━━━━━\u001b[0m \u001b[32m1.1/1.1 MB\u001b[0m \u001b[31m50.9 MB/s\u001b[0m eta \u001b[36m0:00:00\u001b[0m\n",
            "\u001b[2K     \u001b[90m━━━━━━━━━━━━━━━━━━━━━━━━━━━━━━━━━━━━━━━━\u001b[0m \u001b[32m7.2/7.2 MB\u001b[0m \u001b[31m87.8 MB/s\u001b[0m eta \u001b[36m0:00:00\u001b[0m\n",
            "\u001b[2K     \u001b[90m━━━━━━━━━━━━━━━━━━━━━━━━━━━━━━━━━━━━━━\u001b[0m \u001b[32m227.6/227.6 kB\u001b[0m \u001b[31m21.5 MB/s\u001b[0m eta \u001b[36m0:00:00\u001b[0m\n",
            "\u001b[2K     \u001b[90m━━━━━━━━━━━━━━━━━━━━━━━━━━━━━━━━━━━━━━━\u001b[0m \u001b[32m109.1/109.1 MB\u001b[0m \u001b[31m8.7 MB/s\u001b[0m eta \u001b[36m0:00:00\u001b[0m\n",
            "\u001b[2K     \u001b[90m━━━━━━━━━━━━━━━━━━━━━━━━━━━━━━━━━━━━━━\u001b[0m \u001b[32m236.8/236.8 kB\u001b[0m \u001b[31m31.2 MB/s\u001b[0m eta \u001b[36m0:00:00\u001b[0m\n",
            "\u001b[2K     \u001b[90m━━━━━━━━━━━━━━━━━━━━━━━━━━━━━━━━━━━━━━━━\u001b[0m \u001b[32m7.8/7.8 MB\u001b[0m \u001b[31m119.0 MB/s\u001b[0m eta \u001b[36m0:00:00\u001b[0m\n",
            "\u001b[2K     \u001b[90m━━━━━━━━━━━━━━━━━━━━━━━━━━━━━━━━━━━━━━━━\u001b[0m \u001b[32m1.3/1.3 MB\u001b[0m \u001b[31m86.5 MB/s\u001b[0m eta \u001b[36m0:00:00\u001b[0m\n",
            "\u001b[?25h"
          ]
        }
      ]
    },
    {
      "cell_type": "code",
      "source": [
        "!pip install requests"
      ],
      "metadata": {
        "colab": {
          "base_uri": "https://localhost:8080/"
        },
        "id": "DCNm5ZzLWeCv",
        "outputId": "4878fe02-a95d-454d-94f5-07a061c72ffa"
      },
      "execution_count": 3,
      "outputs": [
        {
          "output_type": "stream",
          "name": "stdout",
          "text": [
            "Looking in indexes: https://pypi.org/simple, https://us-python.pkg.dev/colab-wheels/public/simple/\n",
            "Requirement already satisfied: requests in /usr/local/lib/python3.10/dist-packages (2.27.1)\n",
            "Requirement already satisfied: urllib3<1.27,>=1.21.1 in /usr/local/lib/python3.10/dist-packages (from requests) (1.26.15)\n",
            "Requirement already satisfied: certifi>=2017.4.17 in /usr/local/lib/python3.10/dist-packages (from requests) (2022.12.7)\n",
            "Requirement already satisfied: charset-normalizer~=2.0.0 in /usr/local/lib/python3.10/dist-packages (from requests) (2.0.12)\n",
            "Requirement already satisfied: idna<4,>=2.5 in /usr/local/lib/python3.10/dist-packages (from requests) (3.4)\n"
          ]
        }
      ]
    },
    {
      "cell_type": "code",
      "execution_count": 2,
      "metadata": {
        "id": "-Tn17ksUVXx-"
      },
      "outputs": [],
      "source": [
        "import os\n",
        "import qrcode\n",
        "import requests\n",
        "from PIL import Image\n",
        "import torch\n",
        "from diffusers import StableDiffusionControlNetImg2ImgPipeline, ControlNetModel, DDIMScheduler\n",
        "\n",
        "\n",
        "# Generate a QR code for a given text or URL with the highest error correction level\n",
        "def generate_qr(data, id):\n",
        "    filename = f\"{id}-qrcode.png\"\n",
        "\n",
        "    qr = qrcode.QRCode(version=1,\n",
        "                       error_correction=qrcode.constants.ERROR_CORRECT_H,\n",
        "                       box_size=10,\n",
        "                       border=4)\n",
        "    qr.add_data(data)\n",
        "    qr.make(fit=True)\n",
        "\n",
        "    # Create an image from the QR code\n",
        "    qr_image = qr.make_image(fill_color=\"black\", back_color=\"white\")\n",
        "\n",
        "    # Save the image file as PNG format\n",
        "    qr_image.save(filename, \"PNG\")\n",
        "\n",
        "\n",
        "# Function to resize an image to a given resolution without adding padding\n",
        "def resize_image(input_image: Image, resolution: int) -> Image:\n",
        "    input_image = input_image.convert(\"RGB\")\n",
        "    resized_image = input_image.resize((resolution, resolution), resample=Image.LANCZOS)\n",
        "    return resized_image\n",
        "\n",
        "\n",
        "# Function to download an image from a URL and save it as a PNG file\n",
        "def download_image(image_url, save_path):\n",
        "    try:\n",
        "        response = requests.get(image_url, stream=True)\n",
        "        response.raise_for_status()\n",
        "\n",
        "        with open(save_path, 'wb') as file:\n",
        "            for chunk in response.iter_content(chunk_size=8192):\n",
        "                file.write(chunk)\n",
        "\n",
        "        # Open the downloaded image using PIL\n",
        "        image = Image.open(save_path)\n",
        "\n",
        "        # Save the image as PNG format\n",
        "        image.save(save_path, \"PNG\")\n",
        "\n",
        "        return True\n",
        "\n",
        "    except requests.exceptions.RequestException as e:\n",
        "        print(f\"Error downloading image: {e}\")\n",
        "        return False\n",
        "\n",
        "\n",
        "# Function to download the model and get the pipeline\n",
        "def get_pipeline():\n",
        "    try:\n",
        "        # Load the ControlNet model from a pretrained checkpoint\n",
        "        controlnet = ControlNetModel.from_pretrained(\n",
        "            \"DionTimmer/controlnet_qrcode-control_v11p_sd21\",\n",
        "            torch_dtype=torch.float16)\n",
        "\n",
        "        # Create a StableDiffusionControlNetImg2ImgPipeline with the loaded ControlNet model\n",
        "        pipe = StableDiffusionControlNetImg2ImgPipeline.from_pretrained(\n",
        "            \"stabilityai/stable-diffusion-2-1\",\n",
        "            controlnet=controlnet,\n",
        "            safety_checker=None,\n",
        "            torch_dtype=torch.float16)\n",
        "\n",
        "        # Enable memory-efficient attention for the pipeline\n",
        "        pipe.enable_xformers_memory_efficient_attention()\n",
        "\n",
        "        # Set the scheduler for the pipeline to DDIMScheduler with its current configuration\n",
        "        pipe.scheduler = DDIMScheduler.from_config(pipe.scheduler.config)\n",
        "\n",
        "        # Enable CPU offload for the model\n",
        "        pipe.enable_model_cpu_offload()\n",
        "\n",
        "        return pipe\n",
        "\n",
        "    except Exception as e:\n",
        "        print(f\"Error initializing pipeline: {e}\")\n",
        "        return None\n"
      ]
    },
    {
      "cell_type": "code",
      "source": [
        "def generate_qr_art(id, url, reference_image_url, prompt, pipe):\n",
        "    try:\n",
        "        # Generate the QR code image\n",
        "        generate_qr(url, id)\n",
        "\n",
        "        # Download the reference image\n",
        "        reference_image_path = f\"{id}-reference.png\"\n",
        "        if not download_image(reference_image_url, reference_image_path):\n",
        "            return False\n",
        "\n",
        "        # Load the QR code image from local storage\n",
        "        source_image_path = f\"{id}-qrcode.png\"\n",
        "        source_image = Image.open(source_image_path)\n",
        "        source_image = resize_image(source_image, 768)\n",
        "        print(source_image)\n",
        "\n",
        "        # Load the initial image\n",
        "        init_image = Image.open(reference_image_path)\n",
        "        init_image = resize_image(init_image, 768)\n",
        "        print(init_image)\n",
        "\n",
        "        generator = torch.manual_seed(123121231)\n",
        "\n",
        "        # Generate the image using the pipeline\n",
        "        image = pipe(\n",
        "            prompt=prompt,\n",
        "            negative_prompt=\"ugly, disfigured, low quality, blurry\",\n",
        "            image=init_image,\n",
        "            control_image=source_image,\n",
        "            width=768,\n",
        "             height=768,\n",
        "             guidance_scale=7.5,\n",
        "             controlnet_conditioning_scale=0.95,\n",
        "             generator=generator,\n",
        "             strength=0.9,\n",
        "             num_inference_steps=150,\n",
        "        )\n",
        "\n",
        "        # Save the generated image\n",
        "        output_path = \"output.png\"\n",
        "        image.images[0].save(output_path)\n",
        "\n",
        "        # Clean up temporary files\n",
        "        os.remove(source_image_path)\n",
        "        os.remove(reference_image_path)\n",
        "\n",
        "        return True\n",
        "\n",
        "    except Exception as e:\n",
        "        print(f\"Error generating QR art: {e}\")\n",
        "        return False"
      ],
      "metadata": {
        "id": "fz0bU85io-pQ"
      },
      "execution_count": 14,
      "outputs": []
    },
    {
      "cell_type": "markdown",
      "source": [],
      "metadata": {
        "id": "aNnisxdjGj0D"
      }
    },
    {
      "cell_type": "markdown",
      "source": [
        "# Build Pipeline"
      ],
      "metadata": {
        "id": "QQl88QL9o_ts"
      }
    },
    {
      "cell_type": "code",
      "source": [
        "pipe = get_pipeline()"
      ],
      "metadata": {
        "id": "gtLkYDEJVb9F"
      },
      "execution_count": 3,
      "outputs": []
    },
    {
      "cell_type": "markdown",
      "source": [
        "# Generate QART"
      ],
      "metadata": {
        "id": "v_HAkkRapFD3"
      }
    },
    {
      "cell_type": "code",
      "source": [
        "ref = \"https://www.google.com/url?sa=i&url=http%3A%2F%2Ft3.gstatic.com%2Flicensed-image%3Fq%3Dtbn%3AANd9GcRt02L1YRC5s_uF7MMYe-2OQPf7uTlZwIPKHJIGeuRT6KCy0Y-GMGgym4leG1e-gJKR&psig=AOvVaw24itJs9-xKCHGbOQm83Rez&ust=1687164565037000&source=images&cd=vfe&ved=0CBEQjRxqFwoTCNjekve3zP8CFQAAAAAdAAAAABAE\"\n",
        "generate_qr_art('aqib','https://stackoverflow.com/questions/990754/how-to-leave-exit-deactivate-a-python-virtualenv',ref,'A Japanese Samurai',pipe)"
      ],
      "metadata": {
        "colab": {
          "base_uri": "https://localhost:8080/",
          "height": 85,
          "referenced_widgets": [
            "1b7f08e21ba640188de8d46700e611ec",
            "c7ac2174b27341b3a1aaa76a81dd6c69",
            "cea4fb0767f444439d73353eb6ff68ea",
            "329d2e7704f04270a5d8ecb38e90ec3b",
            "abef4998f0d44382ab317e52ee422fa0",
            "65ad0bedb8c642e48fc8c9ef11ae5396",
            "0768da253a8a43bb93e942d93a4a65a6",
            "8d082291f6eb4673b58fa4e70cb2ffee",
            "45d7b0f84049447d8e9c3029ef8ee1f6",
            "33ff876ef87747e79e394689f86f4592",
            "3c8324257526402f879a01a87bb58592"
          ]
        },
        "id": "7J_tW8AHWuDd",
        "outputId": "981549ce-d104-449e-985d-ce9bf5e63636"
      },
      "execution_count": null,
      "outputs": [
        {
          "output_type": "stream",
          "name": "stdout",
          "text": [
            "<PIL.Image.Image image mode=RGB size=768x768 at 0x7F0A658FF250>\n",
            "<PIL.Image.Image image mode=RGB size=768x768 at 0x7F0910F58460>\n"
          ]
        },
        {
          "output_type": "display_data",
          "data": {
            "text/plain": [
              "  0%|          | 0/135 [00:00<?, ?it/s]"
            ],
            "application/vnd.jupyter.widget-view+json": {
              "version_major": 2,
              "version_minor": 0,
              "model_id": "1b7f08e21ba640188de8d46700e611ec"
            }
          },
          "metadata": {}
        }
      ]
    },
    {
      "cell_type": "code",
      "source": [],
      "metadata": {
        "id": "onvC8XLL_GdF"
      },
      "execution_count": null,
      "outputs": []
    }
  ]
}